{
 "cells": [
  {
   "cell_type": "markdown",
   "source": [
    "문제\n",
    "를 수정하여 저장하기\n",
    "요구사항\n",
    "- Unnamed:0라고 표기되는 열을 지운다. 단 Unnamed:0라 쓰지말고 새롭게 컬럼 이름을 만들어서 지운다.\n",
    "- 0,1,2,3,4로 보여지는 index 부분을 지운다.\n",
    "- name에 해당되는 영문 이름을 한글로 바꾼다.\n",
    "- salary에 해당되는 숫자를 000 세자리 단위로 콤마를 넣어서 값을 바꿔 넣는다.\n",
    "- 1~4를 처리하고 나서 csv파일로 저장한다.\n",
    "제출은 파이썬 파일 혹은 쥬피터 파일을 작성하여 업로드하면 된다"
   ],
   "metadata": {
    "collapsed": false
   }
  },
  {
   "cell_type": "markdown",
   "source": [
    "- pandas로 my_data.csv 읽기"
   ],
   "metadata": {
    "collapsed": false
   }
  },
  {
   "cell_type": "code",
   "execution_count": 22,
   "outputs": [
    {
     "data": {
      "text/plain": "   Unnamed: 0     name  age  salary\n0           0    Alice   25   50000\n1           1      Bob   30   60000\n2           2  Charlie   35   70000\n3           3    james   30  400000\n4           4    Alice   25   50000\n5           5      Bob   30   60000\n6           6  Charlie   35   70000\n7           7    james   30  400000",
      "text/html": "<div>\n<style scoped>\n    .dataframe tbody tr th:only-of-type {\n        vertical-align: middle;\n    }\n\n    .dataframe tbody tr th {\n        vertical-align: top;\n    }\n\n    .dataframe thead th {\n        text-align: right;\n    }\n</style>\n<table border=\"1\" class=\"dataframe\">\n  <thead>\n    <tr style=\"text-align: right;\">\n      <th></th>\n      <th>Unnamed: 0</th>\n      <th>name</th>\n      <th>age</th>\n      <th>salary</th>\n    </tr>\n  </thead>\n  <tbody>\n    <tr>\n      <th>0</th>\n      <td>0</td>\n      <td>Alice</td>\n      <td>25</td>\n      <td>50000</td>\n    </tr>\n    <tr>\n      <th>1</th>\n      <td>1</td>\n      <td>Bob</td>\n      <td>30</td>\n      <td>60000</td>\n    </tr>\n    <tr>\n      <th>2</th>\n      <td>2</td>\n      <td>Charlie</td>\n      <td>35</td>\n      <td>70000</td>\n    </tr>\n    <tr>\n      <th>3</th>\n      <td>3</td>\n      <td>james</td>\n      <td>30</td>\n      <td>400000</td>\n    </tr>\n    <tr>\n      <th>4</th>\n      <td>4</td>\n      <td>Alice</td>\n      <td>25</td>\n      <td>50000</td>\n    </tr>\n    <tr>\n      <th>5</th>\n      <td>5</td>\n      <td>Bob</td>\n      <td>30</td>\n      <td>60000</td>\n    </tr>\n    <tr>\n      <th>6</th>\n      <td>6</td>\n      <td>Charlie</td>\n      <td>35</td>\n      <td>70000</td>\n    </tr>\n    <tr>\n      <th>7</th>\n      <td>7</td>\n      <td>james</td>\n      <td>30</td>\n      <td>400000</td>\n    </tr>\n  </tbody>\n</table>\n</div>"
     },
     "execution_count": 22,
     "metadata": {},
     "output_type": "execute_result"
    }
   ],
   "source": [
    "import pandas as pd\n",
    "csv_path = './my_data.csv'\n",
    "df = pd.read_csv(csv_path)\n",
    "df"
   ],
   "metadata": {
    "collapsed": false
   }
  },
  {
   "cell_type": "markdown",
   "source": [
    "- Unnamed:0라고 표기되는 열을 지운다. 단 Unnamed:0라 쓰지말고 새롭게 컬럼 이름을 만들어서 지운다."
   ],
   "metadata": {
    "collapsed": false
   }
  },
  {
   "cell_type": "code",
   "execution_count": 23,
   "outputs": [
    {
     "data": {
      "text/plain": "   index     name  age  salary\n0      0    Alice   25   50000\n1      1      Bob   30   60000\n2      2  Charlie   35   70000\n3      3    james   30  400000\n4      4    Alice   25   50000\n5      5      Bob   30   60000\n6      6  Charlie   35   70000\n7      7    james   30  400000",
      "text/html": "<div>\n<style scoped>\n    .dataframe tbody tr th:only-of-type {\n        vertical-align: middle;\n    }\n\n    .dataframe tbody tr th {\n        vertical-align: top;\n    }\n\n    .dataframe thead th {\n        text-align: right;\n    }\n</style>\n<table border=\"1\" class=\"dataframe\">\n  <thead>\n    <tr style=\"text-align: right;\">\n      <th></th>\n      <th>index</th>\n      <th>name</th>\n      <th>age</th>\n      <th>salary</th>\n    </tr>\n  </thead>\n  <tbody>\n    <tr>\n      <th>0</th>\n      <td>0</td>\n      <td>Alice</td>\n      <td>25</td>\n      <td>50000</td>\n    </tr>\n    <tr>\n      <th>1</th>\n      <td>1</td>\n      <td>Bob</td>\n      <td>30</td>\n      <td>60000</td>\n    </tr>\n    <tr>\n      <th>2</th>\n      <td>2</td>\n      <td>Charlie</td>\n      <td>35</td>\n      <td>70000</td>\n    </tr>\n    <tr>\n      <th>3</th>\n      <td>3</td>\n      <td>james</td>\n      <td>30</td>\n      <td>400000</td>\n    </tr>\n    <tr>\n      <th>4</th>\n      <td>4</td>\n      <td>Alice</td>\n      <td>25</td>\n      <td>50000</td>\n    </tr>\n    <tr>\n      <th>5</th>\n      <td>5</td>\n      <td>Bob</td>\n      <td>30</td>\n      <td>60000</td>\n    </tr>\n    <tr>\n      <th>6</th>\n      <td>6</td>\n      <td>Charlie</td>\n      <td>35</td>\n      <td>70000</td>\n    </tr>\n    <tr>\n      <th>7</th>\n      <td>7</td>\n      <td>james</td>\n      <td>30</td>\n      <td>400000</td>\n    </tr>\n  </tbody>\n</table>\n</div>"
     },
     "execution_count": 23,
     "metadata": {},
     "output_type": "execute_result"
    }
   ],
   "source": [
    "df = df.rename(columns={'Unnamed: 0':\"index\"})\n",
    "df"
   ],
   "metadata": {
    "collapsed": false
   }
  },
  {
   "cell_type": "markdown",
   "source": [
    "- 0,1,2,3,4로 보여지는 index 부분을 지운다."
   ],
   "metadata": {
    "collapsed": false
   }
  },
  {
   "cell_type": "code",
   "execution_count": 24,
   "outputs": [
    {
     "data": {
      "text/plain": "   index     name  age  salary\n0      0    Alice   25   50000\n1      1      Bob   30   60000\n2      2  Charlie   35   70000\n3      3    james   30  400000\n4      4    Alice   25   50000\n5      5      Bob   30   60000\n6      6  Charlie   35   70000\n7      7    james   30  400000",
      "text/html": "<div>\n<style scoped>\n    .dataframe tbody tr th:only-of-type {\n        vertical-align: middle;\n    }\n\n    .dataframe tbody tr th {\n        vertical-align: top;\n    }\n\n    .dataframe thead th {\n        text-align: right;\n    }\n</style>\n<table border=\"1\" class=\"dataframe\">\n  <thead>\n    <tr style=\"text-align: right;\">\n      <th></th>\n      <th>index</th>\n      <th>name</th>\n      <th>age</th>\n      <th>salary</th>\n    </tr>\n  </thead>\n  <tbody>\n    <tr>\n      <th>0</th>\n      <td>0</td>\n      <td>Alice</td>\n      <td>25</td>\n      <td>50000</td>\n    </tr>\n    <tr>\n      <th>1</th>\n      <td>1</td>\n      <td>Bob</td>\n      <td>30</td>\n      <td>60000</td>\n    </tr>\n    <tr>\n      <th>2</th>\n      <td>2</td>\n      <td>Charlie</td>\n      <td>35</td>\n      <td>70000</td>\n    </tr>\n    <tr>\n      <th>3</th>\n      <td>3</td>\n      <td>james</td>\n      <td>30</td>\n      <td>400000</td>\n    </tr>\n    <tr>\n      <th>4</th>\n      <td>4</td>\n      <td>Alice</td>\n      <td>25</td>\n      <td>50000</td>\n    </tr>\n    <tr>\n      <th>5</th>\n      <td>5</td>\n      <td>Bob</td>\n      <td>30</td>\n      <td>60000</td>\n    </tr>\n    <tr>\n      <th>6</th>\n      <td>6</td>\n      <td>Charlie</td>\n      <td>35</td>\n      <td>70000</td>\n    </tr>\n    <tr>\n      <th>7</th>\n      <td>7</td>\n      <td>james</td>\n      <td>30</td>\n      <td>400000</td>\n    </tr>\n  </tbody>\n</table>\n</div>"
     },
     "execution_count": 24,
     "metadata": {},
     "output_type": "execute_result"
    }
   ],
   "source": [
    "df = df.reset_index(drop=True)\n",
    "df"
   ],
   "metadata": {
    "collapsed": false
   }
  },
  {
   "cell_type": "markdown",
   "source": [
    "- name에 해당되는 영문 이름을 한글로 바꾼다."
   ],
   "metadata": {
    "collapsed": false
   }
  },
  {
   "cell_type": "code",
   "execution_count": 29,
   "outputs": [
    {
     "data": {
      "text/plain": "   index name  age  salary\n0      0  앨리스   25   50000\n1      1    밥   30   60000\n2      2   찰리   35   70000\n3      3  제임스   30  400000\n4      4  앨리스   25   50000\n5      5    밥   30   60000\n6      6   찰리   35   70000\n7      7  제임스   30  400000",
      "text/html": "<div>\n<style scoped>\n    .dataframe tbody tr th:only-of-type {\n        vertical-align: middle;\n    }\n\n    .dataframe tbody tr th {\n        vertical-align: top;\n    }\n\n    .dataframe thead th {\n        text-align: right;\n    }\n</style>\n<table border=\"1\" class=\"dataframe\">\n  <thead>\n    <tr style=\"text-align: right;\">\n      <th></th>\n      <th>index</th>\n      <th>name</th>\n      <th>age</th>\n      <th>salary</th>\n    </tr>\n  </thead>\n  <tbody>\n    <tr>\n      <th>0</th>\n      <td>0</td>\n      <td>앨리스</td>\n      <td>25</td>\n      <td>50000</td>\n    </tr>\n    <tr>\n      <th>1</th>\n      <td>1</td>\n      <td>밥</td>\n      <td>30</td>\n      <td>60000</td>\n    </tr>\n    <tr>\n      <th>2</th>\n      <td>2</td>\n      <td>찰리</td>\n      <td>35</td>\n      <td>70000</td>\n    </tr>\n    <tr>\n      <th>3</th>\n      <td>3</td>\n      <td>제임스</td>\n      <td>30</td>\n      <td>400000</td>\n    </tr>\n    <tr>\n      <th>4</th>\n      <td>4</td>\n      <td>앨리스</td>\n      <td>25</td>\n      <td>50000</td>\n    </tr>\n    <tr>\n      <th>5</th>\n      <td>5</td>\n      <td>밥</td>\n      <td>30</td>\n      <td>60000</td>\n    </tr>\n    <tr>\n      <th>6</th>\n      <td>6</td>\n      <td>찰리</td>\n      <td>35</td>\n      <td>70000</td>\n    </tr>\n    <tr>\n      <th>7</th>\n      <td>7</td>\n      <td>제임스</td>\n      <td>30</td>\n      <td>400000</td>\n    </tr>\n  </tbody>\n</table>\n</div>"
     },
     "execution_count": 29,
     "metadata": {},
     "output_type": "execute_result"
    }
   ],
   "source": [
    "df.loc[df['name']=='Alice','name'] = '앨리스'\n",
    "df.loc[df['name']=='Bob','name'] = '밥'\n",
    "df.loc[df['name']=='Charlie','name'] = '찰리'\n",
    "df.loc[df['name']=='james','name'] = '제임스'\n",
    "df\n",
    "\n",
    "\n"
   ],
   "metadata": {
    "collapsed": false
   }
  },
  {
   "cell_type": "markdown",
   "source": [
    "- salary에 해당되는 숫자를 000 세자리 단위로 콤마를 넣어서 값을 바꿔 넣는다."
   ],
   "metadata": {
    "collapsed": false
   }
  },
  {
   "cell_type": "code",
   "execution_count": 30,
   "outputs": [],
   "source": [
    "df = df.applymap(lambda x: '{:,}'.format(x) if isinstance(x, (int, float)) else x)"
   ],
   "metadata": {
    "collapsed": false
   }
  },
  {
   "cell_type": "code",
   "execution_count": 31,
   "outputs": [
    {
     "data": {
      "text/plain": "  index name age   salary\n0     0  앨리스  25   50,000\n1     1    밥  30   60,000\n2     2   찰리  35   70,000\n3     3  제임스  30  400,000\n4     4  앨리스  25   50,000\n5     5    밥  30   60,000\n6     6   찰리  35   70,000\n7     7  제임스  30  400,000",
      "text/html": "<div>\n<style scoped>\n    .dataframe tbody tr th:only-of-type {\n        vertical-align: middle;\n    }\n\n    .dataframe tbody tr th {\n        vertical-align: top;\n    }\n\n    .dataframe thead th {\n        text-align: right;\n    }\n</style>\n<table border=\"1\" class=\"dataframe\">\n  <thead>\n    <tr style=\"text-align: right;\">\n      <th></th>\n      <th>index</th>\n      <th>name</th>\n      <th>age</th>\n      <th>salary</th>\n    </tr>\n  </thead>\n  <tbody>\n    <tr>\n      <th>0</th>\n      <td>0</td>\n      <td>앨리스</td>\n      <td>25</td>\n      <td>50,000</td>\n    </tr>\n    <tr>\n      <th>1</th>\n      <td>1</td>\n      <td>밥</td>\n      <td>30</td>\n      <td>60,000</td>\n    </tr>\n    <tr>\n      <th>2</th>\n      <td>2</td>\n      <td>찰리</td>\n      <td>35</td>\n      <td>70,000</td>\n    </tr>\n    <tr>\n      <th>3</th>\n      <td>3</td>\n      <td>제임스</td>\n      <td>30</td>\n      <td>400,000</td>\n    </tr>\n    <tr>\n      <th>4</th>\n      <td>4</td>\n      <td>앨리스</td>\n      <td>25</td>\n      <td>50,000</td>\n    </tr>\n    <tr>\n      <th>5</th>\n      <td>5</td>\n      <td>밥</td>\n      <td>30</td>\n      <td>60,000</td>\n    </tr>\n    <tr>\n      <th>6</th>\n      <td>6</td>\n      <td>찰리</td>\n      <td>35</td>\n      <td>70,000</td>\n    </tr>\n    <tr>\n      <th>7</th>\n      <td>7</td>\n      <td>제임스</td>\n      <td>30</td>\n      <td>400,000</td>\n    </tr>\n  </tbody>\n</table>\n</div>"
     },
     "execution_count": 31,
     "metadata": {},
     "output_type": "execute_result"
    }
   ],
   "source": [
    "df"
   ],
   "metadata": {
    "collapsed": false
   }
  },
  {
   "cell_type": "code",
   "execution_count": null,
   "outputs": [],
   "source": [],
   "metadata": {
    "collapsed": false
   }
  }
 ],
 "metadata": {
  "kernelspec": {
   "display_name": "Python 3",
   "language": "python",
   "name": "python3"
  },
  "language_info": {
   "codemirror_mode": {
    "name": "ipython",
    "version": 2
   },
   "file_extension": ".py",
   "mimetype": "text/x-python",
   "name": "python",
   "nbconvert_exporter": "python",
   "pygments_lexer": "ipython2",
   "version": "2.7.6"
  }
 },
 "nbformat": 4,
 "nbformat_minor": 0
}
